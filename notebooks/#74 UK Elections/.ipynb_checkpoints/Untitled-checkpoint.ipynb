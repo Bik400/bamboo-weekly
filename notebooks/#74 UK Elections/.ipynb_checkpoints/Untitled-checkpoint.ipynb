{
 "cells": [
  {
   "cell_type": "code",
   "execution_count": 1,
   "id": "4d79e3f3",
   "metadata": {},
   "outputs": [],
   "source": [
    "import pandas as pd"
   ]
  },
  {
   "cell_type": "code",
   "execution_count": 11,
   "id": "01a2fd85",
   "metadata": {},
   "outputs": [],
   "source": [
    "winning_df = pd.read_excel(\"../data/Winning-members.xlsx\", index_col=\"ons_id\")\n",
    "lost_df = pd.read_excel(\"../data/Defeated-MPs.xlsx\", index_col=\"ons_id\", usecols=[\"ons_id\", \"party_name\", \"firstname\", \"middlenames\", \"surname\", \"gender\"])"
   ]
  },
  {
   "cell_type": "code",
   "execution_count": 12,
   "id": "c114dd94",
   "metadata": {},
   "outputs": [
    {
     "name": "stdout",
     "output_type": "stream",
     "text": [
      "(650, 15)\n"
     ]
    },
    {
     "data": {
      "text/html": [
       "<div>\n",
       "<style scoped>\n",
       "    .dataframe tbody tr th:only-of-type {\n",
       "        vertical-align: middle;\n",
       "    }\n",
       "\n",
       "    .dataframe tbody tr th {\n",
       "        vertical-align: top;\n",
       "    }\n",
       "\n",
       "    .dataframe thead th {\n",
       "        text-align: right;\n",
       "    }\n",
       "</style>\n",
       "<table border=\"1\" class=\"dataframe\">\n",
       "  <thead>\n",
       "    <tr style=\"text-align: right;\">\n",
       "      <th></th>\n",
       "      <th>constituency_name</th>\n",
       "      <th>region_name</th>\n",
       "      <th>country_name</th>\n",
       "      <th>constituency_type</th>\n",
       "      <th>result</th>\n",
       "      <th>party_abbreviation</th>\n",
       "      <th>party_name</th>\n",
       "      <th>title</th>\n",
       "      <th>firstname</th>\n",
       "      <th>surname</th>\n",
       "      <th>middlenames</th>\n",
       "      <th>mnis_id</th>\n",
       "      <th>gender</th>\n",
       "      <th>candidate_type</th>\n",
       "      <th>old_constituency</th>\n",
       "    </tr>\n",
       "    <tr>\n",
       "      <th>ons_id</th>\n",
       "      <th></th>\n",
       "      <th></th>\n",
       "      <th></th>\n",
       "      <th></th>\n",
       "      <th></th>\n",
       "      <th></th>\n",
       "      <th></th>\n",
       "      <th></th>\n",
       "      <th></th>\n",
       "      <th></th>\n",
       "      <th></th>\n",
       "      <th></th>\n",
       "      <th></th>\n",
       "      <th></th>\n",
       "      <th></th>\n",
       "    </tr>\n",
       "  </thead>\n",
       "  <tbody>\n",
       "    <tr>\n",
       "      <th>W07000081</th>\n",
       "      <td>Aberafan Maesteg</td>\n",
       "      <td>Wales</td>\n",
       "      <td>Wales</td>\n",
       "      <td>County</td>\n",
       "      <td>Lab hold</td>\n",
       "      <td>Lab</td>\n",
       "      <td>Labour</td>\n",
       "      <td>NaN</td>\n",
       "      <td>Stephen</td>\n",
       "      <td>Kinnock</td>\n",
       "      <td>NaN</td>\n",
       "      <td>4359.0</td>\n",
       "      <td>Male</td>\n",
       "      <td>Re-elected Member</td>\n",
       "      <td>Aberavon</td>\n",
       "    </tr>\n",
       "    <tr>\n",
       "      <th>E14001259</th>\n",
       "      <td>Hackney North and Stoke Newington</td>\n",
       "      <td>London</td>\n",
       "      <td>England</td>\n",
       "      <td>Borough</td>\n",
       "      <td>Lab hold</td>\n",
       "      <td>Lab</td>\n",
       "      <td>Labour</td>\n",
       "      <td>Ms</td>\n",
       "      <td>Diane</td>\n",
       "      <td>Abbott</td>\n",
       "      <td>NaN</td>\n",
       "      <td>172.0</td>\n",
       "      <td>Female</td>\n",
       "      <td>Re-elected Member</td>\n",
       "      <td>Hackney North and Stoke Newington</td>\n",
       "    </tr>\n",
       "    <tr>\n",
       "      <th>S14000060</th>\n",
       "      <td>Aberdeen North</td>\n",
       "      <td>Scotland</td>\n",
       "      <td>Scotland</td>\n",
       "      <td>Borough</td>\n",
       "      <td>SNP hold</td>\n",
       "      <td>SNP</td>\n",
       "      <td>Scottish National Party</td>\n",
       "      <td>NaN</td>\n",
       "      <td>Kirsty</td>\n",
       "      <td>Blackman</td>\n",
       "      <td>Ann</td>\n",
       "      <td>4357.0</td>\n",
       "      <td>Female</td>\n",
       "      <td>Re-elected Member</td>\n",
       "      <td>Aberdeen North</td>\n",
       "    </tr>\n",
       "    <tr>\n",
       "      <th>E14001415</th>\n",
       "      <td>Oldham East and Saddleworth</td>\n",
       "      <td>North West</td>\n",
       "      <td>England</td>\n",
       "      <td>County</td>\n",
       "      <td>Lab hold</td>\n",
       "      <td>Lab</td>\n",
       "      <td>Labour</td>\n",
       "      <td>NaN</td>\n",
       "      <td>Debbie</td>\n",
       "      <td>Abrahams</td>\n",
       "      <td>Angela Elspeth Marie</td>\n",
       "      <td>4212.0</td>\n",
       "      <td>Female</td>\n",
       "      <td>Re-elected Member</td>\n",
       "      <td>Oldham East and Saddleworth</td>\n",
       "    </tr>\n",
       "    <tr>\n",
       "      <th>S14000061</th>\n",
       "      <td>Aberdeen South</td>\n",
       "      <td>Scotland</td>\n",
       "      <td>Scotland</td>\n",
       "      <td>Borough</td>\n",
       "      <td>SNP hold</td>\n",
       "      <td>SNP</td>\n",
       "      <td>Scottish National Party</td>\n",
       "      <td>NaN</td>\n",
       "      <td>Stephen</td>\n",
       "      <td>Flynn</td>\n",
       "      <td>Mark</td>\n",
       "      <td>4735.0</td>\n",
       "      <td>Male</td>\n",
       "      <td>Re-elected Member</td>\n",
       "      <td>Aberdeen South</td>\n",
       "    </tr>\n",
       "  </tbody>\n",
       "</table>\n",
       "</div>"
      ],
      "text/plain": [
       "                           constituency_name region_name country_name  \\\n",
       "ons_id                                                                  \n",
       "W07000081                   Aberafan Maesteg       Wales        Wales   \n",
       "E14001259  Hackney North and Stoke Newington      London      England   \n",
       "S14000060                     Aberdeen North    Scotland     Scotland   \n",
       "E14001415        Oldham East and Saddleworth  North West      England   \n",
       "S14000061                     Aberdeen South    Scotland     Scotland   \n",
       "\n",
       "          constituency_type    result party_abbreviation  \\\n",
       "ons_id                                                     \n",
       "W07000081            County  Lab hold                Lab   \n",
       "E14001259           Borough  Lab hold                Lab   \n",
       "S14000060           Borough  SNP hold                SNP   \n",
       "E14001415            County  Lab hold                Lab   \n",
       "S14000061           Borough  SNP hold                SNP   \n",
       "\n",
       "                        party_name title firstname   surname  \\\n",
       "ons_id                                                         \n",
       "W07000081                   Labour   NaN   Stephen   Kinnock   \n",
       "E14001259                   Labour    Ms     Diane    Abbott   \n",
       "S14000060  Scottish National Party   NaN    Kirsty  Blackman   \n",
       "E14001415                   Labour   NaN    Debbie  Abrahams   \n",
       "S14000061  Scottish National Party   NaN   Stephen     Flynn   \n",
       "\n",
       "                    middlenames  mnis_id  gender     candidate_type  \\\n",
       "ons_id                                                                \n",
       "W07000081                   NaN   4359.0    Male  Re-elected Member   \n",
       "E14001259                   NaN    172.0  Female  Re-elected Member   \n",
       "S14000060                   Ann   4357.0  Female  Re-elected Member   \n",
       "E14001415  Angela Elspeth Marie   4212.0  Female  Re-elected Member   \n",
       "S14000061                  Mark   4735.0    Male  Re-elected Member   \n",
       "\n",
       "                            old_constituency  \n",
       "ons_id                                        \n",
       "W07000081                           Aberavon  \n",
       "E14001259  Hackney North and Stoke Newington  \n",
       "S14000060                     Aberdeen North  \n",
       "E14001415        Oldham East and Saddleworth  \n",
       "S14000061                     Aberdeen South  "
      ]
     },
     "execution_count": 12,
     "metadata": {},
     "output_type": "execute_result"
    }
   ],
   "source": [
    "print(winning_df.shape)\n",
    "winning_df.head()"
   ]
  },
  {
   "cell_type": "code",
   "execution_count": 13,
   "id": "5aea0ab8",
   "metadata": {},
   "outputs": [
    {
     "name": "stdout",
     "output_type": "stream",
     "text": [
      "(218, 5)\n"
     ]
    },
    {
     "data": {
      "text/html": [
       "<div>\n",
       "<style scoped>\n",
       "    .dataframe tbody tr th:only-of-type {\n",
       "        vertical-align: middle;\n",
       "    }\n",
       "\n",
       "    .dataframe tbody tr th {\n",
       "        vertical-align: top;\n",
       "    }\n",
       "\n",
       "    .dataframe thead th {\n",
       "        text-align: right;\n",
       "    }\n",
       "</style>\n",
       "<table border=\"1\" class=\"dataframe\">\n",
       "  <thead>\n",
       "    <tr style=\"text-align: right;\">\n",
       "      <th></th>\n",
       "      <th>party_name</th>\n",
       "      <th>firstname</th>\n",
       "      <th>surname</th>\n",
       "      <th>middlenames</th>\n",
       "      <th>gender</th>\n",
       "    </tr>\n",
       "    <tr>\n",
       "      <th>ons_id</th>\n",
       "      <th></th>\n",
       "      <th></th>\n",
       "      <th></th>\n",
       "      <th></th>\n",
       "      <th></th>\n",
       "    </tr>\n",
       "  </thead>\n",
       "  <tbody>\n",
       "    <tr>\n",
       "      <th>S14000062</th>\n",
       "      <td>Conservative</td>\n",
       "      <td>Douglas</td>\n",
       "      <td>Ross</td>\n",
       "      <td>Gordon</td>\n",
       "      <td>Male</td>\n",
       "    </tr>\n",
       "    <tr>\n",
       "      <th>S14000063</th>\n",
       "      <td>Scottish National Party</td>\n",
       "      <td>Anum</td>\n",
       "      <td>Qaisar</td>\n",
       "      <td>NaN</td>\n",
       "      <td>Female</td>\n",
       "    </tr>\n",
       "    <tr>\n",
       "      <th>E14001063</th>\n",
       "      <td>Conservative</td>\n",
       "      <td>Leo</td>\n",
       "      <td>Docherty</td>\n",
       "      <td>NaN</td>\n",
       "      <td>Male</td>\n",
       "    </tr>\n",
       "    <tr>\n",
       "      <th>S14000064</th>\n",
       "      <td>Alba Party</td>\n",
       "      <td>Kenny</td>\n",
       "      <td>MacAskill</td>\n",
       "      <td>Wright</td>\n",
       "      <td>Male</td>\n",
       "    </tr>\n",
       "    <tr>\n",
       "      <th>S14000064</th>\n",
       "      <td>Scottish National Party</td>\n",
       "      <td>John</td>\n",
       "      <td>Nicolson</td>\n",
       "      <td>MacKenzie</td>\n",
       "      <td>Male</td>\n",
       "    </tr>\n",
       "  </tbody>\n",
       "</table>\n",
       "</div>"
      ],
      "text/plain": [
       "                        party_name firstname    surname middlenames  gender\n",
       "ons_id                                                                     \n",
       "S14000062             Conservative   Douglas       Ross      Gordon    Male\n",
       "S14000063  Scottish National Party      Anum     Qaisar         NaN  Female\n",
       "E14001063             Conservative       Leo   Docherty         NaN    Male\n",
       "S14000064               Alba Party     Kenny  MacAskill      Wright    Male\n",
       "S14000064  Scottish National Party      John   Nicolson   MacKenzie    Male"
      ]
     },
     "execution_count": 13,
     "metadata": {},
     "output_type": "execute_result"
    }
   ],
   "source": [
    "print(lost_df.shape)\n",
    "lost_df.head()"
   ]
  },
  {
   "cell_type": "code",
   "execution_count": 17,
   "id": "29e98510",
   "metadata": {},
   "outputs": [],
   "source": [
    "df = winning_df.join(lost_df, on=\"ons_id\", rsuffix=\"_lost\")"
   ]
  },
  {
   "cell_type": "code",
   "execution_count": 19,
   "id": "8b4ffcfe",
   "metadata": {},
   "outputs": [
    {
     "data": {
      "text/html": [
       "<div>\n",
       "<style scoped>\n",
       "    .dataframe tbody tr th:only-of-type {\n",
       "        vertical-align: middle;\n",
       "    }\n",
       "\n",
       "    .dataframe tbody tr th {\n",
       "        vertical-align: top;\n",
       "    }\n",
       "\n",
       "    .dataframe thead th {\n",
       "        text-align: right;\n",
       "    }\n",
       "</style>\n",
       "<table border=\"1\" class=\"dataframe\">\n",
       "  <thead>\n",
       "    <tr style=\"text-align: right;\">\n",
       "      <th></th>\n",
       "      <th>constituency_name</th>\n",
       "      <th>region_name</th>\n",
       "      <th>country_name</th>\n",
       "      <th>constituency_type</th>\n",
       "      <th>result</th>\n",
       "      <th>party_abbreviation</th>\n",
       "      <th>party_name</th>\n",
       "      <th>title</th>\n",
       "      <th>firstname</th>\n",
       "      <th>surname</th>\n",
       "      <th>middlenames</th>\n",
       "      <th>mnis_id</th>\n",
       "      <th>gender</th>\n",
       "      <th>candidate_type</th>\n",
       "      <th>old_constituency</th>\n",
       "      <th>party_name_lost</th>\n",
       "      <th>firstname_lost</th>\n",
       "      <th>surname_lost</th>\n",
       "      <th>middlenames_lost</th>\n",
       "      <th>gender_lost</th>\n",
       "    </tr>\n",
       "    <tr>\n",
       "      <th>ons_id</th>\n",
       "      <th></th>\n",
       "      <th></th>\n",
       "      <th></th>\n",
       "      <th></th>\n",
       "      <th></th>\n",
       "      <th></th>\n",
       "      <th></th>\n",
       "      <th></th>\n",
       "      <th></th>\n",
       "      <th></th>\n",
       "      <th></th>\n",
       "      <th></th>\n",
       "      <th></th>\n",
       "      <th></th>\n",
       "      <th></th>\n",
       "      <th></th>\n",
       "      <th></th>\n",
       "      <th></th>\n",
       "      <th></th>\n",
       "      <th></th>\n",
       "    </tr>\n",
       "  </thead>\n",
       "  <tbody>\n",
       "    <tr>\n",
       "      <th>W07000081</th>\n",
       "      <td>Aberafan Maesteg</td>\n",
       "      <td>Wales</td>\n",
       "      <td>Wales</td>\n",
       "      <td>County</td>\n",
       "      <td>Lab hold</td>\n",
       "      <td>Lab</td>\n",
       "      <td>Labour</td>\n",
       "      <td>NaN</td>\n",
       "      <td>Stephen</td>\n",
       "      <td>Kinnock</td>\n",
       "      <td>NaN</td>\n",
       "      <td>4359.0</td>\n",
       "      <td>Male</td>\n",
       "      <td>Re-elected Member</td>\n",
       "      <td>Aberavon</td>\n",
       "      <td>NaN</td>\n",
       "      <td>NaN</td>\n",
       "      <td>NaN</td>\n",
       "      <td>NaN</td>\n",
       "      <td>NaN</td>\n",
       "    </tr>\n",
       "    <tr>\n",
       "      <th>E14001259</th>\n",
       "      <td>Hackney North and Stoke Newington</td>\n",
       "      <td>London</td>\n",
       "      <td>England</td>\n",
       "      <td>Borough</td>\n",
       "      <td>Lab hold</td>\n",
       "      <td>Lab</td>\n",
       "      <td>Labour</td>\n",
       "      <td>Ms</td>\n",
       "      <td>Diane</td>\n",
       "      <td>Abbott</td>\n",
       "      <td>NaN</td>\n",
       "      <td>172.0</td>\n",
       "      <td>Female</td>\n",
       "      <td>Re-elected Member</td>\n",
       "      <td>Hackney North and Stoke Newington</td>\n",
       "      <td>NaN</td>\n",
       "      <td>NaN</td>\n",
       "      <td>NaN</td>\n",
       "      <td>NaN</td>\n",
       "      <td>NaN</td>\n",
       "    </tr>\n",
       "    <tr>\n",
       "      <th>S14000060</th>\n",
       "      <td>Aberdeen North</td>\n",
       "      <td>Scotland</td>\n",
       "      <td>Scotland</td>\n",
       "      <td>Borough</td>\n",
       "      <td>SNP hold</td>\n",
       "      <td>SNP</td>\n",
       "      <td>Scottish National Party</td>\n",
       "      <td>NaN</td>\n",
       "      <td>Kirsty</td>\n",
       "      <td>Blackman</td>\n",
       "      <td>Ann</td>\n",
       "      <td>4357.0</td>\n",
       "      <td>Female</td>\n",
       "      <td>Re-elected Member</td>\n",
       "      <td>Aberdeen North</td>\n",
       "      <td>NaN</td>\n",
       "      <td>NaN</td>\n",
       "      <td>NaN</td>\n",
       "      <td>NaN</td>\n",
       "      <td>NaN</td>\n",
       "    </tr>\n",
       "    <tr>\n",
       "      <th>E14001415</th>\n",
       "      <td>Oldham East and Saddleworth</td>\n",
       "      <td>North West</td>\n",
       "      <td>England</td>\n",
       "      <td>County</td>\n",
       "      <td>Lab hold</td>\n",
       "      <td>Lab</td>\n",
       "      <td>Labour</td>\n",
       "      <td>NaN</td>\n",
       "      <td>Debbie</td>\n",
       "      <td>Abrahams</td>\n",
       "      <td>Angela Elspeth Marie</td>\n",
       "      <td>4212.0</td>\n",
       "      <td>Female</td>\n",
       "      <td>Re-elected Member</td>\n",
       "      <td>Oldham East and Saddleworth</td>\n",
       "      <td>NaN</td>\n",
       "      <td>NaN</td>\n",
       "      <td>NaN</td>\n",
       "      <td>NaN</td>\n",
       "      <td>NaN</td>\n",
       "    </tr>\n",
       "    <tr>\n",
       "      <th>S14000061</th>\n",
       "      <td>Aberdeen South</td>\n",
       "      <td>Scotland</td>\n",
       "      <td>Scotland</td>\n",
       "      <td>Borough</td>\n",
       "      <td>SNP hold</td>\n",
       "      <td>SNP</td>\n",
       "      <td>Scottish National Party</td>\n",
       "      <td>NaN</td>\n",
       "      <td>Stephen</td>\n",
       "      <td>Flynn</td>\n",
       "      <td>Mark</td>\n",
       "      <td>4735.0</td>\n",
       "      <td>Male</td>\n",
       "      <td>Re-elected Member</td>\n",
       "      <td>Aberdeen South</td>\n",
       "      <td>NaN</td>\n",
       "      <td>NaN</td>\n",
       "      <td>NaN</td>\n",
       "      <td>NaN</td>\n",
       "      <td>NaN</td>\n",
       "    </tr>\n",
       "  </tbody>\n",
       "</table>\n",
       "</div>"
      ],
      "text/plain": [
       "                           constituency_name region_name country_name  \\\n",
       "ons_id                                                                  \n",
       "W07000081                   Aberafan Maesteg       Wales        Wales   \n",
       "E14001259  Hackney North and Stoke Newington      London      England   \n",
       "S14000060                     Aberdeen North    Scotland     Scotland   \n",
       "E14001415        Oldham East and Saddleworth  North West      England   \n",
       "S14000061                     Aberdeen South    Scotland     Scotland   \n",
       "\n",
       "          constituency_type    result party_abbreviation  \\\n",
       "ons_id                                                     \n",
       "W07000081            County  Lab hold                Lab   \n",
       "E14001259           Borough  Lab hold                Lab   \n",
       "S14000060           Borough  SNP hold                SNP   \n",
       "E14001415            County  Lab hold                Lab   \n",
       "S14000061           Borough  SNP hold                SNP   \n",
       "\n",
       "                        party_name title firstname   surname  \\\n",
       "ons_id                                                         \n",
       "W07000081                   Labour   NaN   Stephen   Kinnock   \n",
       "E14001259                   Labour    Ms     Diane    Abbott   \n",
       "S14000060  Scottish National Party   NaN    Kirsty  Blackman   \n",
       "E14001415                   Labour   NaN    Debbie  Abrahams   \n",
       "S14000061  Scottish National Party   NaN   Stephen     Flynn   \n",
       "\n",
       "                    middlenames  mnis_id  gender     candidate_type  \\\n",
       "ons_id                                                                \n",
       "W07000081                   NaN   4359.0    Male  Re-elected Member   \n",
       "E14001259                   NaN    172.0  Female  Re-elected Member   \n",
       "S14000060                   Ann   4357.0  Female  Re-elected Member   \n",
       "E14001415  Angela Elspeth Marie   4212.0  Female  Re-elected Member   \n",
       "S14000061                  Mark   4735.0    Male  Re-elected Member   \n",
       "\n",
       "                            old_constituency party_name_lost firstname_lost  \\\n",
       "ons_id                                                                        \n",
       "W07000081                           Aberavon             NaN            NaN   \n",
       "E14001259  Hackney North and Stoke Newington             NaN            NaN   \n",
       "S14000060                     Aberdeen North             NaN            NaN   \n",
       "E14001415        Oldham East and Saddleworth             NaN            NaN   \n",
       "S14000061                     Aberdeen South             NaN            NaN   \n",
       "\n",
       "          surname_lost middlenames_lost gender_lost  \n",
       "ons_id                                               \n",
       "W07000081          NaN              NaN         NaN  \n",
       "E14001259          NaN              NaN         NaN  \n",
       "S14000060          NaN              NaN         NaN  \n",
       "E14001415          NaN              NaN         NaN  \n",
       "S14000061          NaN              NaN         NaN  "
      ]
     },
     "execution_count": 19,
     "metadata": {},
     "output_type": "execute_result"
    }
   ],
   "source": [
    "df.head()"
   ]
  },
  {
   "cell_type": "markdown",
   "id": "f319d407",
   "metadata": {},
   "source": [
    "### Which party won the greatest number of seats in each region? Which party lost the greatest number of seats?"
   ]
  },
  {
   "cell_type": "code",
   "execution_count": 18,
   "id": "43a75fca",
   "metadata": {},
   "outputs": [
    {
     "data": {
      "text/plain": [
       "region_name\n",
       "East Midlands                     Labour\n",
       "East of England             Conservative\n",
       "London                            Labour\n",
       "North East                        Labour\n",
       "North West                        Labour\n",
       "Northern Ireland               Sinn Fein\n",
       "Scotland                          Labour\n",
       "South East                        Labour\n",
       "South West                        Labour\n",
       "Wales                             Labour\n",
       "West Midlands                     Labour\n",
       "Yorkshire and The Humber          Labour\n",
       "dtype: object"
      ]
     },
     "execution_count": 18,
     "metadata": {},
     "output_type": "execute_result"
    }
   ],
   "source": [
    "df.pivot_table(index=\"party_name\", columns=\"region_name\", values=\"country_name\", aggfunc=\"count\").idxmax()"
   ]
  },
  {
   "cell_type": "code",
   "execution_count": 20,
   "id": "ef218c59",
   "metadata": {},
   "outputs": [
    {
     "data": {
      "text/plain": [
       "region_name\n",
       "East Midlands                            Conservative\n",
       "East of England                          Conservative\n",
       "London                                   Conservative\n",
       "North East                               Conservative\n",
       "North West                               Conservative\n",
       "Northern Ireland            Democratic Unionist Party\n",
       "Scotland                      Scottish National Party\n",
       "South East                               Conservative\n",
       "South West                               Conservative\n",
       "Wales                                    Conservative\n",
       "West Midlands                            Conservative\n",
       "Yorkshire and The Humber                 Conservative\n",
       "dtype: object"
      ]
     },
     "execution_count": 20,
     "metadata": {},
     "output_type": "execute_result"
    }
   ],
   "source": [
    "df.pivot_table(index=\"party_name_lost\", columns=\"region_name\", values=\"country_name\", aggfunc=\"count\").idxmax()"
   ]
  },
  {
   "cell_type": "markdown",
   "id": "8c441fff",
   "metadata": {},
   "source": [
    "### Pie chart showing how many seats were won by each party"
   ]
  },
  {
   "cell_type": "code",
   "execution_count": 24,
   "id": "a739498b",
   "metadata": {},
   "outputs": [
    {
     "data": {
      "text/plain": [
       "<Axes: ylabel='count'>"
      ]
     },
     "execution_count": 24,
     "metadata": {},
     "output_type": "execute_result"
    },
    {
     "data": {
      "image/png": "[encoded data removed]",
      "text/plain": [
       "<Figure size 640x480 with 1 Axes>"
      ]
     },
     "metadata": {},
     "output_type": "display_data"
    }
   ],
   "source": [
    "df[\"party_abbreviation\"].value_counts().plot.pie(colors=[\"red\", \"blue\", \"orange\", \"lightblue\", \"gray\", \"green\", \"purple\"])"
   ]
  },
  {
   "cell_type": "code",
   "execution_count": 25,
   "id": "0411a4e0",
   "metadata": {},
   "outputs": [
    {
     "data": {
      "text/plain": [
       "party_abbreviation\n",
       "Lab         413\n",
       "Con         121\n",
       "LD           72\n",
       "SNP           9\n",
       "SF            7\n",
       "Ind           6\n",
       "RUK           5\n",
       "DUP           5\n",
       "PC            4\n",
       "Green         4\n",
       "SDLP          2\n",
       "Spk           1\n",
       "Alliance      1\n",
       "TUV           1\n",
       "UUP           1\n",
       "Name: count, dtype: int64"
      ]
     },
     "execution_count": 25,
     "metadata": {},
     "output_type": "execute_result"
    }
   ],
   "source": [
    "df[\"party_abbreviation\"].value_counts()"
   ]
  },
  {
   "cell_type": "markdown",
   "id": "9dce0e74",
   "metadata": {},
   "source": [
    "### What is the proportion of women in the incoming parliament? In how many races did a female candidate beat a male candidate and vice versa?"
   ]
  },
  {
   "cell_type": "code",
   "execution_count": 27,
   "id": "eda32b29",
   "metadata": {},
   "outputs": [
    {
     "data": {
      "text/plain": [
       "gender\n",
       "Male      0.595092\n",
       "Female    0.404908\n",
       "Name: proportion, dtype: float64"
      ]
     },
     "execution_count": 27,
     "metadata": {},
     "output_type": "execute_result"
    }
   ],
   "source": [
    "df[\"gender\"].value_counts(normalize=True)"
   ]
  },
  {
   "cell_type": "code",
   "execution_count": 34,
   "id": "1cfb1d3c",
   "metadata": {},
   "outputs": [
    {
     "data": {
      "text/plain": [
       "59"
      ]
     },
     "execution_count": 34,
     "metadata": {},
     "output_type": "execute_result"
    }
   ],
   "source": [
    "((df[\"gender\"] == \"Female\") & (df[\"gender_lost\"] == \"Male\")).sum()"
   ]
  },
  {
   "cell_type": "code",
   "execution_count": 35,
   "id": "2ed88bcf",
   "metadata": {},
   "outputs": [
    {
     "data": {
      "text/plain": [
       "37"
      ]
     },
     "execution_count": 35,
     "metadata": {},
     "output_type": "execute_result"
    }
   ],
   "source": [
    "((df[\"gender\"] == \"Male\") & (df[\"gender_lost\"] == \"Female\")).sum()"
   ]
  },
  {
   "cell_type": "markdown",
   "id": "6c936add",
   "metadata": {},
   "source": [
    "### How many members of parliament have the title of \"Sir\" of \"Dame\", and how many of them are from each party?"
   ]
  },
  {
   "cell_type": "code",
   "execution_count": 43,
   "id": "3f044a00",
   "metadata": {},
   "outputs": [
    {
     "data": {
      "text/plain": [
       "party_name\n",
       "Conservative               14\n",
       "Labour                      7\n",
       "Labour and Co-operative     2\n",
       "Speaker                     1\n",
       "Name: count, dtype: int64"
      ]
     },
     "execution_count": 43,
     "metadata": {},
     "output_type": "execute_result"
    }
   ],
   "source": [
    "df.loc[df[\"title\"].isin([\"Sir\", \"Dame\"]), \"party_name\"].value_counts()"
   ]
  }
 ],
 "metadata": {
  "kernelspec": {
   "display_name": "Python 3 (ipykernel)",
   "language": "python",
   "name": "python3"
  },
  "language_info": {
   "codemirror_mode": {
    "name": "ipython",
    "version": 3
   },
   "file_extension": ".py",
   "mimetype": "text/x-python",
   "name": "python",
   "nbconvert_exporter": "python",
   "pygments_lexer": "ipython3",
   "version": "3.11.5"
  }
 },
 "nbformat": 4,
 "nbformat_minor": 5
}
