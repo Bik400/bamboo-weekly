{
 "cells": [
  {
   "cell_type": "code",
   "execution_count": 38,
   "id": "8af15784",
   "metadata": {},
   "outputs": [],
   "source": [
    "import pandas as pd\n",
    "import glob"
   ]
  },
  {
   "cell_type": "code",
   "execution_count": 39,
   "id": "e09d92f8",
   "metadata": {},
   "outputs": [],
   "source": [
    "# Read in the tsv files \n",
    "data = pd.DataFrame()\n",
    "tsv_files = glob.glob('data/*.tsv')\n",
    "for tsv_file in tsv_files:\n",
    "    df = pd.read_csv(tsv_file, sep='\\t', low_memory=False)\n",
    "    data = pd.concat([data, df])"
   ]
  },
  {
   "cell_type": "code",
   "execution_count": 40,
   "id": "d601295d",
   "metadata": {},
   "outputs": [
    {
     "data": {
      "text/plain": [
       "(1311422, 26)"
      ]
     },
     "execution_count": 40,
     "metadata": {},
     "output_type": "execute_result"
    }
   ],
   "source": [
    "data.shape"
   ]
  },
  {
   "cell_type": "code",
   "execution_count": 41,
   "id": "5650ba82",
   "metadata": {},
   "outputs": [
    {
     "data": {
      "text/plain": [
       "CPSC_Case_Number           1\n",
       "Treatment_Date             0\n",
       "Age                        0\n",
       "Sex                   338265\n",
       "Race                       5\n",
       "Other_Race           1265598\n",
       "Hispanic                   5\n",
       "Body_Part                  5\n",
       "Diagnosis                  5\n",
       "Other_Diagnosis      1066447\n",
       "Body_Part_2          1021245\n",
       "Diagnosis_2          1021245\n",
       "Other_Diagnosis_2    1248714\n",
       "Disposition                5\n",
       "Location                   5\n",
       "Fire_Involvement           5\n",
       "Product_1                  5\n",
       "Product_2                  5\n",
       "Product_3                  5\n",
       "Alcohol                    5\n",
       "Drug                       5\n",
       "Narrative_1                5\n",
       "Stratum                   10\n",
       "PSU                       10\n",
       "Weight                    10\n",
       "Gender                973157\n",
       "dtype: int64"
      ]
     },
     "execution_count": 41,
     "metadata": {},
     "output_type": "execute_result"
    }
   ],
   "source": [
    "data.isna().sum()"
   ]
  },
  {
   "cell_type": "code",
   "execution_count": 42,
   "id": "39ec98e3",
   "metadata": {},
   "outputs": [
    {
     "data": {
      "text/plain": [
       "CPSC_Case_Number      object\n",
       "Treatment_Date        object\n",
       "Age                    int64\n",
       "Sex                  float64\n",
       "Race                 float64\n",
       "Other_Race            object\n",
       "Hispanic             float64\n",
       "Body_Part            float64\n",
       "Diagnosis            float64\n",
       "Other_Diagnosis       object\n",
       "Body_Part_2          float64\n",
       "Diagnosis_2          float64\n",
       "Other_Diagnosis_2     object\n",
       "Disposition          float64\n",
       "Location             float64\n",
       "Fire_Involvement     float64\n",
       "Product_1            float64\n",
       "Product_2            float64\n",
       "Product_3            float64\n",
       "Alcohol              float64\n",
       "Drug                 float64\n",
       "Narrative_1           object\n",
       "Stratum               object\n",
       "PSU                  float64\n",
       "Weight               float64\n",
       "Gender               float64\n",
       "dtype: object"
      ]
     },
     "execution_count": 42,
     "metadata": {},
     "output_type": "execute_result"
    }
   ],
   "source": [
    "data.dtypes"
   ]
  },
  {
   "cell_type": "code",
   "execution_count": 43,
   "id": "71116010",
   "metadata": {},
   "outputs": [
    {
     "data": {
      "text/plain": [
       "0    01/01/2020\n",
       "1    01/01/2020\n",
       "2    01/01/2020\n",
       "3    01/01/2020\n",
       "4    01/01/2020\n",
       "Name: Treatment_Date, dtype: object"
      ]
     },
     "execution_count": 43,
     "metadata": {},
     "output_type": "execute_result"
    }
   ],
   "source": [
    "data[\"Treatment_Date\"].head()"
   ]
  },
  {
   "cell_type": "code",
   "execution_count": 44,
   "id": "476abf57",
   "metadata": {},
   "outputs": [
    {
     "data": {
      "text/plain": [
       "0   2020-01-01\n",
       "1   2020-01-01\n",
       "2   2020-01-01\n",
       "3   2020-01-01\n",
       "4   2020-01-01\n",
       "Name: Treatment_Date, dtype: datetime64[ns]"
      ]
     },
     "execution_count": 44,
     "metadata": {},
     "output_type": "execute_result"
    }
   ],
   "source": [
    "# Convert the Treatment Date column into datetime\n",
    "data[\"Treatment_Date\"] = pd.to_datetime(data[\"Treatment_Date\"], errors='coerce')\n",
    "data[\"Treatment_Date\"].head()"
   ]
  },
  {
   "cell_type": "markdown",
   "id": "366a0d14",
   "metadata": {},
   "source": [
    "### Which month has the most accidents?"
   ]
  },
  {
   "cell_type": "code",
   "execution_count": 45,
   "id": "2860404e",
   "metadata": {},
   "outputs": [
    {
     "data": {
      "text/plain": [
       "Treatment_Date\n",
       "5.0     119410\n",
       "7.0     117786\n",
       "8.0     117627\n",
       "9.0     117004\n",
       "6.0     115895\n",
       "10.0    113552\n",
       "3.0     108232\n",
       "1.0     105071\n",
       "4.0     104908\n",
       "2.0     100557\n",
       "11.0     99074\n",
       "12.0     92301\n",
       "Name: Treatment_Date, dtype: int64"
      ]
     },
     "execution_count": 45,
     "metadata": {},
     "output_type": "execute_result"
    }
   ],
   "source": [
    "data.groupby(data[\"Treatment_Date\"].dt.month)[\"Treatment_Date\"].agg(\"count\").sort_values(ascending=False)"
   ]
  },
  {
   "cell_type": "markdown",
   "id": "2e327341",
   "metadata": {},
   "source": [
    "### Is there an association between age and the number of accidents?"
   ]
  },
  {
   "cell_type": "code",
   "execution_count": 58,
   "id": "8bd44017",
   "metadata": {},
   "outputs": [
    {
     "data": {
      "text/plain": [
       "<Axes: ylabel='Frequency'>"
      ]
     },
     "execution_count": 58,
     "metadata": {},
     "output_type": "execute_result"
    },
    {
     "data": {
      "image/png": "[encoded data removed]",
      "text/plain": [
       "<Figure size 640x480 with 1 Axes>"
      ]
     },
     "metadata": {},
     "output_type": "display_data"
    }
   ],
   "source": [
    "data[\"Age\"].plot.hist()"
   ]
  },
  {
   "cell_type": "code",
   "execution_count": 60,
   "id": "cf84a518",
   "metadata": {},
   "outputs": [
    {
     "data": {
      "text/plain": [
       "<Axes: ylabel='Frequency'>"
      ]
     },
     "execution_count": 60,
     "metadata": {},
     "output_type": "execute_result"
    },
    {
     "data": {
      "image/png": "[encoded data removed]",
      "text/plain": [
       "<Figure size 640x480 with 1 Axes>"
      ]
     },
     "metadata": {},
     "output_type": "display_data"
    }
   ],
   "source": [
    "data[data[\"Age\"] < 120][\"Age\"].plot.hist()"
   ]
  },
  {
   "cell_type": "markdown",
   "id": "8ee493bf",
   "metadata": {},
   "source": [
    "### Are men and women involved with avocado-related accidents at similar rates? How about minors (< 18 years old) vs. adults?"
   ]
  },
  {
   "cell_type": "code",
   "execution_count": 71,
   "id": "0a4067eb",
   "metadata": {},
   "outputs": [
    {
     "data": {
      "text/plain": [
       "Sex\n",
       "2.0    0.757764\n",
       "1.0    0.242236\n",
       "Name: proportion, dtype: float64"
      ]
     },
     "execution_count": 71,
     "metadata": {},
     "output_type": "execute_result"
    }
   ],
   "source": [
    "data[[\"Narrative_1\", \"Sex\"]].dropna().loc[lambda x: x[\"Narrative_1\"].str.contains(\"avocado\", case=False)][\"Sex\"].value_counts(normalize=True)"
   ]
  },
  {
   "cell_type": "code",
   "execution_count": 73,
   "id": "9463e7e2",
   "metadata": {},
   "outputs": [
    {
     "data": {
      "text/plain": [
       "is_adult\n",
       "True     0.892628\n",
       "False    0.107372\n",
       "Name: proportion, dtype: float64"
      ]
     },
     "execution_count": 73,
     "metadata": {},
     "output_type": "execute_result"
    }
   ],
   "source": [
    "data[[\"Narrative_1\", \"Age\"]].dropna().loc[lambda x: x[\"Narrative_1\"].str.contains(\"avocado\", case=False)].assign(is_adult = lambda x: x[\"Age\"] >= 18)[\"is_adult\"].value_counts(normalize=True)"
   ]
  },
  {
   "cell_type": "markdown",
   "id": "c64e0e16",
   "metadata": {},
   "source": [
    "### Are there months in which we see a consistent spike in avocado-related injuries?"
   ]
  },
  {
   "cell_type": "code",
   "execution_count": 85,
   "id": "caaeaf86",
   "metadata": {},
   "outputs": [
    {
     "data": {
      "text/plain": [
       "<Axes: xlabel='Treatment_Date,Treatment_Date'>"
      ]
     },
     "execution_count": 85,
     "metadata": {},
     "output_type": "execute_result"
    },
    {
     "data": {
      "image/png": "[encoded data removed]",
      "text/plain": [
       "<Figure size 640x480 with 1 Axes>"
      ]
     },
     "metadata": {},
     "output_type": "display_data"
    }
   ],
   "source": [
    "cleaned_data = data[[\"Narrative_1\", \"Treatment_Date\"]].dropna().drop_duplicates()\n",
    "avocado_data = cleaned_data[cleaned_data[\"Narrative_1\"].str.contains(\"avocado\", case=False)]\n",
    "monthly_counts = avocado_data.groupby([avocado_data[\"Treatment_Date\"].dt.year, avocado_data[\"Treatment_Date\"].dt.month])[\"Treatment_Date\"].agg(\"count\")\n",
    "monthly_counts = monthly_counts.sort_index()\n",
    "monthly_counts.plot.line() "
   ]
  },
  {
   "cell_type": "code",
   "execution_count": null,
   "id": "7a5c67df",
   "metadata": {},
   "outputs": [],
   "source": []
  }
 ],
 "metadata": {
  "kernelspec": {
   "display_name": "Python 3 (ipykernel)",
   "language": "python",
   "name": "python3"
  },
  "language_info": {
   "codemirror_mode": {
    "name": "ipython",
    "version": 3
   },
   "file_extension": ".py",
   "mimetype": "text/x-python",
   "name": "python",
   "nbconvert_exporter": "python",
   "pygments_lexer": "ipython3",
   "version": "3.11.5"
  }
 },
 "nbformat": 4,
 "nbformat_minor": 5
}
