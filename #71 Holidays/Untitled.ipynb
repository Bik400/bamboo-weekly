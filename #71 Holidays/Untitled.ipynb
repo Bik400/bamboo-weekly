{
 "cells": [
  {
   "cell_type": "code",
   "execution_count": 189,
   "id": "d3a4fac9",
   "metadata": {},
   "outputs": [],
   "source": [
    "# Import libraries\n",
    "import pandas as pd\n",
    "import holidays\n",
    "import pycountry\n",
    "import re"
   ]
  },
  {
   "cell_type": "code",
   "execution_count": 190,
   "id": "5cfc8d4c",
   "metadata": {},
   "outputs": [
    {
     "name": "stdout",
     "output_type": "stream",
     "text": [
      "{datetime.date(2010, 1, 1): \"New Year's Day\", datetime.date(2010, 12, 31): \"New Year's Day (observed)\", datetime.date(2010, 5, 31): 'Memorial Day', datetime.date(2010, 7, 4): 'Independence Day', datetime.date(2010, 7, 5): 'Independence Day (observed)', datetime.date(2010, 9, 6): 'Labor Day', datetime.date(2010, 11, 11): 'Veterans Day', datetime.date(2010, 11, 25): 'Thanksgiving', datetime.date(2010, 12, 25): 'Christmas Day', datetime.date(2010, 12, 24): 'Christmas Day (observed)', datetime.date(2010, 1, 18): 'Martin Luther King Jr. Day', datetime.date(2010, 2, 15): \"Washington's Birthday\", datetime.date(2010, 10, 11): 'Columbus Day'}\n",
      "New Year's Day\n",
      "New Year's Day (observed)\n",
      "Memorial Day\n",
      "Independence Day\n",
      "Independence Day (observed)\n",
      "Labor Day\n",
      "Veterans Day\n",
      "Thanksgiving\n",
      "Christmas Day\n",
      "Christmas Day (observed)\n",
      "Martin Luther King Jr. Day\n",
      "Washington's Birthday\n",
      "Columbus Day\n"
     ]
    }
   ],
   "source": [
    "cols = [\"country\", \"alpha2\", \"date\", \"holiday\"]\n",
    "us_holidays = holidays.country_holidays(\"US\", years=2010)\n",
    "print(us_holidays)\n",
    "for holiday in us_holidays:\n",
    "    print(us_holidays[holiday])"
   ]
  },
  {
   "cell_type": "code",
   "execution_count": 191,
   "id": "d742a950",
   "metadata": {},
   "outputs": [
    {
     "name": "stdout",
     "output_type": "stream",
     "text": [
      "\tAfghanistan has no holidays in the database\n",
      "\tAnguilla has no holidays in the database\n",
      "\tÅland Islands has no holidays in the database\n",
      "\tAntarctica has no holidays in the database\n",
      "\tFrench Southern Territories has no holidays in the database\n",
      "\tAntigua and Barbuda has no holidays in the database\n",
      "\tBenin has no holidays in the database\n",
      "\tBonaire, Sint Eustatius and Saba has no holidays in the database\n",
      "\tSaint Barthélemy has no holidays in the database\n",
      "\tBermuda has no holidays in the database\n",
      "\tBhutan has no holidays in the database\n",
      "\tBouvet Island has no holidays in the database\n",
      "\tCentral African Republic has no holidays in the database\n",
      "\tCocos (Keeling) Islands has no holidays in the database\n",
      "\tCôte d'Ivoire has no holidays in the database\n",
      "\tCongo, The Democratic Republic of the has no holidays in the database\n",
      "\tCongo has no holidays in the database\n",
      "\tCook Islands has no holidays in the database\n",
      "\tComoros has no holidays in the database\n",
      "\tCabo Verde has no holidays in the database\n",
      "\tChristmas Island has no holidays in the database\n",
      "\tCayman Islands has no holidays in the database\n",
      "\tDominica has no holidays in the database\n",
      "\tEritrea has no holidays in the database\n",
      "\tWestern Sahara has no holidays in the database\n",
      "\tFiji has no holidays in the database\n",
      "\tFalkland Islands (Malvinas) has no holidays in the database\n",
      "\tFaroe Islands has no holidays in the database\n",
      "\tMicronesia, Federated States of has no holidays in the database\n",
      "\tGuernsey has no holidays in the database\n",
      "\tGibraltar has no holidays in the database\n",
      "\tGuinea has no holidays in the database\n",
      "\tGuadeloupe has no holidays in the database\n",
      "\tGambia has no holidays in the database\n",
      "\tGuinea-Bissau has no holidays in the database\n",
      "\tEquatorial Guinea has no holidays in the database\n",
      "\tGrenada has no holidays in the database\n",
      "\tFrench Guiana has no holidays in the database\n",
      "\tGuyana has no holidays in the database\n",
      "\tHeard Island and McDonald Islands has no holidays in the database\n",
      "\tHaiti has no holidays in the database\n",
      "\tBritish Indian Ocean Territory has no holidays in the database\n",
      "\tIraq has no holidays in the database\n",
      "\tKiribati has no holidays in the database\n",
      "\tSaint Kitts and Nevis has no holidays in the database\n",
      "\tLebanon has no holidays in the database\n",
      "\tLiberia has no holidays in the database\n",
      "\tLibya has no holidays in the database\n",
      "\tSaint Lucia has no holidays in the database\n",
      "\tSri Lanka has no holidays in the database\n",
      "\tMacao has no holidays in the database\n",
      "\tSaint Martin (French part) has no holidays in the database\n",
      "\tMali has no holidays in the database\n",
      "\tMyanmar has no holidays in the database\n",
      "\tMongolia has no holidays in the database\n",
      "\tMauritania has no holidays in the database\n",
      "\tMontserrat has no holidays in the database\n",
      "\tMartinique has no holidays in the database\n",
      "\tMauritius has no holidays in the database\n",
      "\tMayotte has no holidays in the database\n",
      "\tNew Caledonia has no holidays in the database\n",
      "\tNiger has no holidays in the database\n",
      "\tNorfolk Island has no holidays in the database\n",
      "\tNiue has no holidays in the database\n",
      "\tNepal has no holidays in the database\n",
      "\tNauru has no holidays in the database\n",
      "\tOman has no holidays in the database\n",
      "\tPitcairn has no holidays in the database\n",
      "\tKorea, Democratic People's Republic of has no holidays in the database\n",
      "\tPalestine, State of has no holidays in the database\n",
      "\tFrench Polynesia has no holidays in the database\n",
      "\tQatar has no holidays in the database\n",
      "\tRéunion has no holidays in the database\n",
      "\tRwanda has no holidays in the database\n",
      "\tSudan has no holidays in the database\n",
      "\tSenegal has no holidays in the database\n",
      "\tSouth Georgia and the South Sandwich Islands has no holidays in the database\n",
      "\tSaint Helena, Ascension and Tristan da Cunha has no holidays in the database\n",
      "\tSvalbard and Jan Mayen has no holidays in the database\n",
      "\tSolomon Islands has no holidays in the database\n",
      "\tSierra Leone has no holidays in the database\n",
      "\tSomalia has no holidays in the database\n",
      "\tSaint Pierre and Miquelon has no holidays in the database\n",
      "\tSouth Sudan has no holidays in the database\n",
      "\tSao Tome and Principe has no holidays in the database\n",
      "\tSuriname has no holidays in the database\n",
      "\tSint Maarten (Dutch part) has no holidays in the database\n",
      "\tSyrian Arab Republic has no holidays in the database\n",
      "\tTurks and Caicos Islands has no holidays in the database\n",
      "\tTogo has no holidays in the database\n",
      "\tTajikistan has no holidays in the database\n",
      "\tTokelau has no holidays in the database\n",
      "\tTurkmenistan has no holidays in the database\n",
      "\tTrinidad and Tobago has no holidays in the database\n",
      "\tTuvalu has no holidays in the database\n",
      "\tUganda has no holidays in the database\n",
      "\tSaint Vincent and the Grenadines has no holidays in the database\n",
      "\tVirgin Islands, British has no holidays in the database\n",
      "\tWallis and Futuna has no holidays in the database\n",
      "\tSamoa has no holidays in the database\n",
      "\tYemen has no holidays in the database\n"
     ]
    },
    {
     "name": "stderr",
     "output_type": "stream",
     "text": [
      "/Users/bik/anaconda3/lib/python3.11/site-packages/holidays/countries/marshall_islands.py:38: Warning: Years before 2020 are not available for the Marshall Islands (MH).\n",
      "  warnings.warn(\n"
     ]
    }
   ],
   "source": [
    "all_holidays = []\n",
    "for country in pycountry.countries:\n",
    "    try:\n",
    "        cur_holidays = holidays.country_holidays(country.alpha_2, years=range(2010, 2025))\n",
    "        for date in cur_holidays:\n",
    "            all_holidays.append([country.name, country.alpha_2, date, cur_holidays[date]])\n",
    "    except NotImplementedError as e:\n",
    "        pass\n",
    "        print(f'\\t{country.name} has no holidays in the database')"
   ]
  },
  {
   "cell_type": "code",
   "execution_count": 192,
   "id": "2854cee8",
   "metadata": {},
   "outputs": [
    {
     "data": {
      "text/plain": [
       "30958"
      ]
     },
     "execution_count": 192,
     "metadata": {},
     "output_type": "execute_result"
    }
   ],
   "source": [
    "len(all_holidays)"
   ]
  },
  {
   "cell_type": "code",
   "execution_count": 193,
   "id": "c6c2e062",
   "metadata": {},
   "outputs": [
    {
     "data": {
      "text/html": [
       "<div>\n",
       "<style scoped>\n",
       "    .dataframe tbody tr th:only-of-type {\n",
       "        vertical-align: middle;\n",
       "    }\n",
       "\n",
       "    .dataframe tbody tr th {\n",
       "        vertical-align: top;\n",
       "    }\n",
       "\n",
       "    .dataframe thead th {\n",
       "        text-align: right;\n",
       "    }\n",
       "</style>\n",
       "<table border=\"1\" class=\"dataframe\">\n",
       "  <thead>\n",
       "    <tr style=\"text-align: right;\">\n",
       "      <th></th>\n",
       "      <th>country</th>\n",
       "      <th>alpha2</th>\n",
       "      <th>date</th>\n",
       "      <th>holiday</th>\n",
       "    </tr>\n",
       "  </thead>\n",
       "  <tbody>\n",
       "    <tr>\n",
       "      <th>0</th>\n",
       "      <td>Aruba</td>\n",
       "      <td>AW</td>\n",
       "      <td>2016-01-01</td>\n",
       "      <td>New Year's Day</td>\n",
       "    </tr>\n",
       "    <tr>\n",
       "      <th>1</th>\n",
       "      <td>Aruba</td>\n",
       "      <td>AW</td>\n",
       "      <td>2016-01-25</td>\n",
       "      <td>Betico Day</td>\n",
       "    </tr>\n",
       "    <tr>\n",
       "      <th>2</th>\n",
       "      <td>Aruba</td>\n",
       "      <td>AW</td>\n",
       "      <td>2016-02-08</td>\n",
       "      <td>Carnival Monday</td>\n",
       "    </tr>\n",
       "    <tr>\n",
       "      <th>3</th>\n",
       "      <td>Aruba</td>\n",
       "      <td>AW</td>\n",
       "      <td>2016-03-18</td>\n",
       "      <td>National Anthem and Flag Day</td>\n",
       "    </tr>\n",
       "    <tr>\n",
       "      <th>4</th>\n",
       "      <td>Aruba</td>\n",
       "      <td>AW</td>\n",
       "      <td>2016-03-25</td>\n",
       "      <td>Good Friday</td>\n",
       "    </tr>\n",
       "  </tbody>\n",
       "</table>\n",
       "</div>"
      ],
      "text/plain": [
       "  country alpha2        date                       holiday\n",
       "0   Aruba     AW  2016-01-01                New Year's Day\n",
       "1   Aruba     AW  2016-01-25                    Betico Day\n",
       "2   Aruba     AW  2016-02-08               Carnival Monday\n",
       "3   Aruba     AW  2016-03-18  National Anthem and Flag Day\n",
       "4   Aruba     AW  2016-03-25                   Good Friday"
      ]
     },
     "execution_count": 193,
     "metadata": {},
     "output_type": "execute_result"
    }
   ],
   "source": [
    "df = pd.DataFrame(all_holidays, columns=cols)\n",
    "df.head()"
   ]
  },
  {
   "cell_type": "code",
   "execution_count": 194,
   "id": "7abdc903",
   "metadata": {},
   "outputs": [
    {
     "data": {
      "text/plain": [
       "country    object\n",
       "alpha2     object\n",
       "date       object\n",
       "holiday    object\n",
       "dtype: object"
      ]
     },
     "execution_count": 194,
     "metadata": {},
     "output_type": "execute_result"
    }
   ],
   "source": [
    "df.dtypes"
   ]
  },
  {
   "cell_type": "code",
   "execution_count": 195,
   "id": "734c8ee8",
   "metadata": {},
   "outputs": [
    {
     "data": {
      "text/plain": [
       "country            object\n",
       "alpha2             object\n",
       "date       datetime64[ns]\n",
       "holiday            object\n",
       "dtype: object"
      ]
     },
     "execution_count": 195,
     "metadata": {},
     "output_type": "execute_result"
    }
   ],
   "source": [
    "df[\"date\"] = pd.to_datetime(df[\"date\"])\n",
    "df.dtypes"
   ]
  },
  {
   "cell_type": "code",
   "execution_count": 196,
   "id": "74424dac",
   "metadata": {},
   "outputs": [
    {
     "data": {
      "text/plain": [
       "88"
      ]
     },
     "execution_count": 196,
     "metadata": {},
     "output_type": "execute_result"
    }
   ],
   "source": [
    "df.set_index(\"date\").loc[\"2024-06\"][\"country\"].drop_duplicates().size\n",
    "\n",
    "# We see that 88 countries celebrate a holiday in June "
   ]
  },
  {
   "cell_type": "code",
   "execution_count": 197,
   "id": "af871784",
   "metadata": {},
   "outputs": [
    {
     "data": {
      "text/plain": [
       "holiday\n",
       "Eid al-Adha (estimated)                 30\n",
       "Eid al-Adha Holiday (estimated)         18\n",
       "Arafat Day (estimated)                   7\n",
       "Juneteenth National Independence Day     7\n",
       "Sunday                                   5\n",
       "Eid al-Adha                              5\n",
       "Independence Day                         4\n",
       "Midsummer Day                            4\n",
       "Eid-ul-Adha (estimated)                  3\n",
       "Eid al-Adha (observed, estimated)        3\n",
       "Name: country, dtype: int64"
      ]
     },
     "execution_count": 197,
     "metadata": {},
     "output_type": "execute_result"
    }
   ],
   "source": [
    "# Which holidays are celebrated in more than one country?\n",
    "df.set_index(\"date\").loc[\"2024-06\"].groupby(\"holiday\")[\"country\"].count().sort_values(ascending=False).head(10)"
   ]
  },
  {
   "cell_type": "code",
   "execution_count": 198,
   "id": "a0e70efe",
   "metadata": {},
   "outputs": [
    {
     "data": {
      "text/html": [
       "<div>\n",
       "<style scoped>\n",
       "    .dataframe tbody tr th:only-of-type {\n",
       "        vertical-align: middle;\n",
       "    }\n",
       "\n",
       "    .dataframe tbody tr th {\n",
       "        vertical-align: top;\n",
       "    }\n",
       "\n",
       "    .dataframe thead th {\n",
       "        text-align: right;\n",
       "    }\n",
       "</style>\n",
       "<table border=\"1\" class=\"dataframe\">\n",
       "  <thead>\n",
       "    <tr style=\"text-align: right;\">\n",
       "      <th></th>\n",
       "      <th>country</th>\n",
       "      <th>alpha2</th>\n",
       "      <th>holiday</th>\n",
       "    </tr>\n",
       "    <tr>\n",
       "      <th>date</th>\n",
       "      <th></th>\n",
       "      <th></th>\n",
       "      <th></th>\n",
       "    </tr>\n",
       "  </thead>\n",
       "  <tbody>\n",
       "    <tr>\n",
       "      <th>2024-06-19</th>\n",
       "      <td>American Samoa</td>\n",
       "      <td>AS</td>\n",
       "      <td>Juneteenth National Independence Day</td>\n",
       "    </tr>\n",
       "    <tr>\n",
       "      <th>2024-06-19</th>\n",
       "      <td>Guam</td>\n",
       "      <td>GU</td>\n",
       "      <td>Juneteenth National Independence Day</td>\n",
       "    </tr>\n",
       "    <tr>\n",
       "      <th>2024-06-19</th>\n",
       "      <td>Northern Mariana Islands</td>\n",
       "      <td>MP</td>\n",
       "      <td>Juneteenth National Independence Day</td>\n",
       "    </tr>\n",
       "    <tr>\n",
       "      <th>2024-06-19</th>\n",
       "      <td>Puerto Rico</td>\n",
       "      <td>PR</td>\n",
       "      <td>Juneteenth National Independence Day</td>\n",
       "    </tr>\n",
       "    <tr>\n",
       "      <th>2024-06-19</th>\n",
       "      <td>United States Minor Outlying Islands</td>\n",
       "      <td>UM</td>\n",
       "      <td>Juneteenth National Independence Day</td>\n",
       "    </tr>\n",
       "    <tr>\n",
       "      <th>2024-06-19</th>\n",
       "      <td>United States</td>\n",
       "      <td>US</td>\n",
       "      <td>Juneteenth National Independence Day</td>\n",
       "    </tr>\n",
       "    <tr>\n",
       "      <th>2024-06-19</th>\n",
       "      <td>Virgin Islands, U.S.</td>\n",
       "      <td>VI</td>\n",
       "      <td>Juneteenth National Independence Day</td>\n",
       "    </tr>\n",
       "  </tbody>\n",
       "</table>\n",
       "</div>"
      ],
      "text/plain": [
       "                                         country alpha2  \\\n",
       "date                                                      \n",
       "2024-06-19                        American Samoa     AS   \n",
       "2024-06-19                                  Guam     GU   \n",
       "2024-06-19              Northern Mariana Islands     MP   \n",
       "2024-06-19                           Puerto Rico     PR   \n",
       "2024-06-19  United States Minor Outlying Islands     UM   \n",
       "2024-06-19                         United States     US   \n",
       "2024-06-19                  Virgin Islands, U.S.     VI   \n",
       "\n",
       "                                         holiday  \n",
       "date                                              \n",
       "2024-06-19  Juneteenth National Independence Day  \n",
       "2024-06-19  Juneteenth National Independence Day  \n",
       "2024-06-19  Juneteenth National Independence Day  \n",
       "2024-06-19  Juneteenth National Independence Day  \n",
       "2024-06-19  Juneteenth National Independence Day  \n",
       "2024-06-19  Juneteenth National Independence Day  \n",
       "2024-06-19  Juneteenth National Independence Day  "
      ]
     },
     "execution_count": 198,
     "metadata": {},
     "output_type": "execute_result"
    }
   ],
   "source": [
    "# dummy = df.set_index(\"date\")\n",
    "# filter_df = dummy.loc[\"2024-06\"]\n",
    "# filter_df.loc[filter_df[\"holiday\"].str.contains(\"Juneteenth\")]\n",
    "df.set_index(\"date\").loc[\"2024-06\"].loc[lambda df: df[\"holiday\"].str.contains(\"Juneteenth\")]"
   ]
  },
  {
   "cell_type": "code",
   "execution_count": 199,
   "id": "e63cb349",
   "metadata": {},
   "outputs": [],
   "source": [
    "# Remove all the words inbetween parantheses as well as the parantheses \n",
    "df[\"holiday\"] = df[\"holiday\"].str.replace(r\"\\([^)]*\\)\", \"\", regex=True).str.strip()"
   ]
  },
  {
   "cell_type": "code",
   "execution_count": 200,
   "id": "75871960",
   "metadata": {},
   "outputs": [],
   "source": [
    "# Remove the word holiday from the holiday column\n",
    "df[\"holiday\"] = df[\"holiday\"].str.replace(r\"\\s*Holiday\\s*$\", \"\", regex=True, flags=re.IGNORECASE)"
   ]
  },
  {
   "cell_type": "code",
   "execution_count": 201,
   "id": "2f858d8c",
   "metadata": {},
   "outputs": [
    {
     "data": {
      "text/plain": [
       "holiday\n",
       "Eid al-Adha                             59\n",
       "Arafat Day                               7\n",
       "Juneteenth National Independence Day     7\n",
       "Independence Day                         5\n",
       "Sunday                                   5\n",
       "Midsummer Day                            4\n",
       "Midsummer Eve                            3\n",
       "Eid-ul-Adha                              3\n",
       "Eid-el-Kabir                             3\n",
       "Youth Day                                2\n",
       "Name: country, dtype: int64"
      ]
     },
     "execution_count": 201,
     "metadata": {},
     "output_type": "execute_result"
    }
   ],
   "source": [
    "df.set_index(\"date\").loc[\"2024-06\"].groupby(\"holiday\")[\"country\"].count().sort_values(ascending=False).head(10)"
   ]
  },
  {
   "cell_type": "code",
   "execution_count": 202,
   "id": "082e8b68",
   "metadata": {},
   "outputs": [],
   "source": [
    "new_years_celebrating = df.set_index(\"date\").loc[\"2024-01-01\"][\"country\"]"
   ]
  },
  {
   "cell_type": "code",
   "execution_count": 203,
   "id": "57951888",
   "metadata": {},
   "outputs": [
    {
     "data": {
      "text/plain": [
       "3083                    Bangladesh\n",
       "9079                      Ethiopia\n",
       "12377                        India\n",
       "12787    Iran, Islamic Republic of\n",
       "13428                       Israel\n",
       "19820                     Malaysia\n",
       "21135                     Pakistan\n",
       "23631                 Saudi Arabia\n",
       "28322                      Ukraine\n",
       "Name: country, dtype: object"
      ]
     },
     "execution_count": 203,
     "metadata": {},
     "output_type": "execute_result"
    }
   ],
   "source": [
    "df.loc[lambda x: ~x[\"country\"].isin(new_years_celebrating)][\"country\"].drop_duplicates()"
   ]
  },
  {
   "cell_type": "code",
   "execution_count": 204,
   "id": "5debebe0",
   "metadata": {},
   "outputs": [
    {
     "data": {
      "text/plain": [
       "3083                    Bangladesh\n",
       "9079                      Ethiopia\n",
       "12377                        India\n",
       "12787    Iran, Islamic Republic of\n",
       "13428                       Israel\n",
       "19820                     Malaysia\n",
       "21135                     Pakistan\n",
       "23631                 Saudi Arabia\n",
       "28322                      Ukraine\n",
       "Name: country, dtype: object"
      ]
     },
     "execution_count": 204,
     "metadata": {},
     "output_type": "execute_result"
    }
   ],
   "source": [
    "df[~df[\"country\"].isin(new_years_celebrating)][\"country\"].drop_duplicates()"
   ]
  },
  {
   "cell_type": "code",
   "execution_count": 206,
   "id": "c4b31ed9",
   "metadata": {},
   "outputs": [
    {
     "data": {
      "text/html": [
       "<div>\n",
       "<style scoped>\n",
       "    .dataframe tbody tr th:only-of-type {\n",
       "        vertical-align: middle;\n",
       "    }\n",
       "\n",
       "    .dataframe tbody tr th {\n",
       "        vertical-align: top;\n",
       "    }\n",
       "\n",
       "    .dataframe thead th {\n",
       "        text-align: right;\n",
       "    }\n",
       "</style>\n",
       "<table border=\"1\" class=\"dataframe\">\n",
       "  <thead>\n",
       "    <tr style=\"text-align: right;\">\n",
       "      <th></th>\n",
       "      <th></th>\n",
       "      <th>alpha2</th>\n",
       "      <th>date</th>\n",
       "    </tr>\n",
       "    <tr>\n",
       "      <th>country</th>\n",
       "      <th>holiday</th>\n",
       "      <th></th>\n",
       "      <th></th>\n",
       "    </tr>\n",
       "  </thead>\n",
       "  <tbody>\n",
       "  </tbody>\n",
       "</table>\n",
       "</div>"
      ],
      "text/plain": [
       "Empty DataFrame\n",
       "Columns: [alpha2, date]\n",
       "Index: []"
      ]
     },
     "execution_count": 206,
     "metadata": {},
     "output_type": "execute_result"
    }
   ],
   "source": [
    "df.loc[lambda df_: df_[\"date\"].dt.year == \"2024\"].set_index([\"country\", \"holiday\"])"
   ]
  },
  {
   "cell_type": "code",
   "execution_count": null,
   "id": "b82093f8",
   "metadata": {},
   "outputs": [],
   "source": []
  }
 ],
 "metadata": {
  "kernelspec": {
   "display_name": "Python 3 (ipykernel)",
   "language": "python",
   "name": "python3"
  },
  "language_info": {
   "codemirror_mode": {
    "name": "ipython",
    "version": 3
   },
   "file_extension": ".py",
   "mimetype": "text/x-python",
   "name": "python",
   "nbconvert_exporter": "python",
   "pygments_lexer": "ipython3",
   "version": "3.11.5"
  }
 },
 "nbformat": 4,
 "nbformat_minor": 5
}
